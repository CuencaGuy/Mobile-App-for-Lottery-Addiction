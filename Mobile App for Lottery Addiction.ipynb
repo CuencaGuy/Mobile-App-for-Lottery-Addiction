{
 "cells": [
  {
   "cell_type": "markdown",
   "metadata": {},
   "source": [
    "# Mobile App for Lottery Addiction\n",
    "\n",
    "The goal of this project is to help lottery addicts better estimate their chances of winning. A medical institute that aims to prevent and treat gambling addictions wants to build a dedicated mobile app for this information. The institute has a team of engineers that will build the app, but they need us to create the logical core of the app and calculate probabilities. For this project, we will be using historical data from the Canadian lottery available [here](https://www.kaggle.com/datasets/datascienceai/lottery-dataset)."
   ]
  },
  {
   "cell_type": "markdown",
   "metadata": {},
   "source": [
    "The first step of this project will be to write the core functions to calculate our probabilities. We will use a function, `factorial`, which calculates the factorial of any given number. We will also use a function, `combinations`, which takes two inputs, `n` and `k`, and returns the number of possible combinations when selecting `k` objects from a possible `n` objects. Since the order in which lottery numbers are drawn has no bearing on winning the lottery, we need to calculate the number of combinations instead of the total number of permutations."
   ]
  },
  {
   "cell_type": "code",
   "execution_count": 1,
   "metadata": {
    "collapsed": false
   },
   "outputs": [],
   "source": [
    "import pandas as pd\n",
    "\n",
    "def factorial(n):\n",
    "    answer = 1\n",
    "    for i in range(n):\n",
    "        answer *= n\n",
    "        n -= 1\n",
    "    return answer\n",
    "\n",
    "def combinations(n,k):\n",
    "    return int(factorial(n) / (factorial(n-k) * factorial(k)))"
   ]
  },
  {
   "cell_type": "markdown",
   "metadata": {},
   "source": [
    "## One-Ticket Probability"
   ]
  },
  {
   "cell_type": "markdown",
   "metadata": {},
   "source": [
    "Our next function will be used to display the odds of winning the lottery for one ticket with a set of numbers, `n`. Since the specific numbers have no bearing on the probability of winning, this is an unused input, and no input should raise an error. Essentially, this function is used only to print the probabilities of winning the lottery when choosing six numbers from a possible 49."
   ]
  },
  {
   "cell_type": "code",
   "execution_count": 2,
   "metadata": {
    "collapsed": false
   },
   "outputs": [
    {
     "name": "stdout",
     "output_type": "stream",
     "text": [
      "Buying one lottery ticket:\n",
      "\tYour probability of having the correct numbers is 0.0000072%.\n",
      "\tYour chances of winning are 1 in 13,983,816.\n"
     ]
    }
   ],
   "source": [
    "def one_ticket_probability(n):\n",
    "    combos = combinations(49,6)\n",
    "    probability = 1 / combos\n",
    "    print('Buying one lottery ticket:')\n",
    "    print('\\tYour probability of having the correct numbers is {:.7f}'.format(100 * probability) + '%.')\n",
    "    print('\\tYour chances of winning are 1 in {:,}'.format(combos) + '.')\n",
    "    return\n",
    "\n",
    "#Sample output\n",
    "one_ticket_probability(0)"
   ]
  },
  {
   "cell_type": "markdown",
   "metadata": {},
   "source": [
    "## Historical Data Check for Canadian Lottery\n",
    "\n",
    "We have written a function that will tell users their chances of winning the lottery with a given set of numbers, but we also want users to be able to compare their ticket to historical lottery data in Canada to determine if they ever would have won with that particular set of numbers. We'll read in the dataset and examine what it contains."
   ]
  },
  {
   "cell_type": "code",
   "execution_count": 3,
   "metadata": {
    "collapsed": false
   },
   "outputs": [
    {
     "name": "stdout",
     "output_type": "stream",
     "text": [
      "<class 'pandas.core.frame.DataFrame'>\n",
      "RangeIndex: 3665 entries, 0 to 3664\n",
      "Data columns (total 11 columns):\n",
      "PRODUCT            3665 non-null int64\n",
      "DRAW NUMBER        3665 non-null int64\n",
      "SEQUENCE NUMBER    3665 non-null int64\n",
      "DRAW DATE          3665 non-null object\n",
      "NUMBER DRAWN 1     3665 non-null int64\n",
      "NUMBER DRAWN 2     3665 non-null int64\n",
      "NUMBER DRAWN 3     3665 non-null int64\n",
      "NUMBER DRAWN 4     3665 non-null int64\n",
      "NUMBER DRAWN 5     3665 non-null int64\n",
      "NUMBER DRAWN 6     3665 non-null int64\n",
      "BONUS NUMBER       3665 non-null int64\n",
      "dtypes: int64(10), object(1)\n",
      "memory usage: 315.0+ KB\n"
     ]
    }
   ],
   "source": [
    "lottery = pd.read_csv('649.csv')\n",
    "lottery.info()"
   ]
  },
  {
   "cell_type": "code",
   "execution_count": 4,
   "metadata": {
    "collapsed": false
   },
   "outputs": [
    {
     "data": {
      "text/html": [
       "<div>\n",
       "<style scoped>\n",
       "    .dataframe tbody tr th:only-of-type {\n",
       "        vertical-align: middle;\n",
       "    }\n",
       "\n",
       "    .dataframe tbody tr th {\n",
       "        vertical-align: top;\n",
       "    }\n",
       "\n",
       "    .dataframe thead th {\n",
       "        text-align: right;\n",
       "    }\n",
       "</style>\n",
       "<table border=\"1\" class=\"dataframe\">\n",
       "  <thead>\n",
       "    <tr style=\"text-align: right;\">\n",
       "      <th></th>\n",
       "      <th>PRODUCT</th>\n",
       "      <th>DRAW NUMBER</th>\n",
       "      <th>SEQUENCE NUMBER</th>\n",
       "      <th>DRAW DATE</th>\n",
       "      <th>NUMBER DRAWN 1</th>\n",
       "      <th>NUMBER DRAWN 2</th>\n",
       "      <th>NUMBER DRAWN 3</th>\n",
       "      <th>NUMBER DRAWN 4</th>\n",
       "      <th>NUMBER DRAWN 5</th>\n",
       "      <th>NUMBER DRAWN 6</th>\n",
       "      <th>BONUS NUMBER</th>\n",
       "    </tr>\n",
       "  </thead>\n",
       "  <tbody>\n",
       "    <tr>\n",
       "      <th>0</th>\n",
       "      <td>649</td>\n",
       "      <td>1</td>\n",
       "      <td>0</td>\n",
       "      <td>6/12/1982</td>\n",
       "      <td>3</td>\n",
       "      <td>11</td>\n",
       "      <td>12</td>\n",
       "      <td>14</td>\n",
       "      <td>41</td>\n",
       "      <td>43</td>\n",
       "      <td>13</td>\n",
       "    </tr>\n",
       "    <tr>\n",
       "      <th>1</th>\n",
       "      <td>649</td>\n",
       "      <td>2</td>\n",
       "      <td>0</td>\n",
       "      <td>6/19/1982</td>\n",
       "      <td>8</td>\n",
       "      <td>33</td>\n",
       "      <td>36</td>\n",
       "      <td>37</td>\n",
       "      <td>39</td>\n",
       "      <td>41</td>\n",
       "      <td>9</td>\n",
       "    </tr>\n",
       "    <tr>\n",
       "      <th>2</th>\n",
       "      <td>649</td>\n",
       "      <td>3</td>\n",
       "      <td>0</td>\n",
       "      <td>6/26/1982</td>\n",
       "      <td>1</td>\n",
       "      <td>6</td>\n",
       "      <td>23</td>\n",
       "      <td>24</td>\n",
       "      <td>27</td>\n",
       "      <td>39</td>\n",
       "      <td>34</td>\n",
       "    </tr>\n",
       "  </tbody>\n",
       "</table>\n",
       "</div>"
      ],
      "text/plain": [
       "   PRODUCT  DRAW NUMBER  SEQUENCE NUMBER  DRAW DATE  NUMBER DRAWN 1  \\\n",
       "0      649            1                0  6/12/1982               3   \n",
       "1      649            2                0  6/19/1982               8   \n",
       "2      649            3                0  6/26/1982               1   \n",
       "\n",
       "   NUMBER DRAWN 2  NUMBER DRAWN 3  NUMBER DRAWN 4  NUMBER DRAWN 5  \\\n",
       "0              11              12              14              41   \n",
       "1              33              36              37              39   \n",
       "2               6              23              24              27   \n",
       "\n",
       "   NUMBER DRAWN 6  BONUS NUMBER  \n",
       "0              43            13  \n",
       "1              41             9  \n",
       "2              39            34  "
      ]
     },
     "execution_count": 4,
     "metadata": {},
     "output_type": "execute_result"
    }
   ],
   "source": [
    "lottery.head(3)"
   ]
  },
  {
   "cell_type": "code",
   "execution_count": 5,
   "metadata": {
    "collapsed": false
   },
   "outputs": [
    {
     "data": {
      "text/html": [
       "<div>\n",
       "<style scoped>\n",
       "    .dataframe tbody tr th:only-of-type {\n",
       "        vertical-align: middle;\n",
       "    }\n",
       "\n",
       "    .dataframe tbody tr th {\n",
       "        vertical-align: top;\n",
       "    }\n",
       "\n",
       "    .dataframe thead th {\n",
       "        text-align: right;\n",
       "    }\n",
       "</style>\n",
       "<table border=\"1\" class=\"dataframe\">\n",
       "  <thead>\n",
       "    <tr style=\"text-align: right;\">\n",
       "      <th></th>\n",
       "      <th>PRODUCT</th>\n",
       "      <th>DRAW NUMBER</th>\n",
       "      <th>SEQUENCE NUMBER</th>\n",
       "      <th>DRAW DATE</th>\n",
       "      <th>NUMBER DRAWN 1</th>\n",
       "      <th>NUMBER DRAWN 2</th>\n",
       "      <th>NUMBER DRAWN 3</th>\n",
       "      <th>NUMBER DRAWN 4</th>\n",
       "      <th>NUMBER DRAWN 5</th>\n",
       "      <th>NUMBER DRAWN 6</th>\n",
       "      <th>BONUS NUMBER</th>\n",
       "    </tr>\n",
       "  </thead>\n",
       "  <tbody>\n",
       "    <tr>\n",
       "      <th>3662</th>\n",
       "      <td>649</td>\n",
       "      <td>3589</td>\n",
       "      <td>0</td>\n",
       "      <td>6/13/2018</td>\n",
       "      <td>6</td>\n",
       "      <td>22</td>\n",
       "      <td>24</td>\n",
       "      <td>31</td>\n",
       "      <td>32</td>\n",
       "      <td>34</td>\n",
       "      <td>16</td>\n",
       "    </tr>\n",
       "    <tr>\n",
       "      <th>3663</th>\n",
       "      <td>649</td>\n",
       "      <td>3590</td>\n",
       "      <td>0</td>\n",
       "      <td>6/16/2018</td>\n",
       "      <td>2</td>\n",
       "      <td>15</td>\n",
       "      <td>21</td>\n",
       "      <td>31</td>\n",
       "      <td>38</td>\n",
       "      <td>49</td>\n",
       "      <td>8</td>\n",
       "    </tr>\n",
       "    <tr>\n",
       "      <th>3664</th>\n",
       "      <td>649</td>\n",
       "      <td>3591</td>\n",
       "      <td>0</td>\n",
       "      <td>6/20/2018</td>\n",
       "      <td>14</td>\n",
       "      <td>24</td>\n",
       "      <td>31</td>\n",
       "      <td>35</td>\n",
       "      <td>37</td>\n",
       "      <td>48</td>\n",
       "      <td>17</td>\n",
       "    </tr>\n",
       "  </tbody>\n",
       "</table>\n",
       "</div>"
      ],
      "text/plain": [
       "      PRODUCT  DRAW NUMBER  SEQUENCE NUMBER  DRAW DATE  NUMBER DRAWN 1  \\\n",
       "3662      649         3589                0  6/13/2018               6   \n",
       "3663      649         3590                0  6/16/2018               2   \n",
       "3664      649         3591                0  6/20/2018              14   \n",
       "\n",
       "      NUMBER DRAWN 2  NUMBER DRAWN 3  NUMBER DRAWN 4  NUMBER DRAWN 5  \\\n",
       "3662              22              24              31              32   \n",
       "3663              15              21              31              38   \n",
       "3664              24              31              35              37   \n",
       "\n",
       "      NUMBER DRAWN 6  BONUS NUMBER  \n",
       "3662              34            16  \n",
       "3663              49             8  \n",
       "3664              48            17  "
      ]
     },
     "execution_count": 5,
     "metadata": {},
     "output_type": "execute_result"
    }
   ],
   "source": [
    "lottery.tail(3)"
   ]
  },
  {
   "cell_type": "markdown",
   "metadata": {},
   "source": [
    "## Function for Historical Data Check\n",
    "\n",
    "To write this function, we will have to take in a set of six numbers and compare them to all of the past winning combinations. We will output how many times the set of numbers would have won the lottery as well as the probability of winning the jackpot in the next drawing with that particular combination. For the purposes of our function we will be using the following columns:\n",
    "* `NUMBER DRAWN 1`\n",
    "* `NUMBER DRAWN 2`\n",
    "* `NUMBER DRAWN 3`\n",
    "* `NUMBER DRAWN 4`\n",
    "* `NUMBER DRAWN 5`\n",
    "* `NUMBER DRAWN 6`\n",
    "\n",
    "The `BONUS NUMBER` column is not relevant to our calculations."
   ]
  },
  {
   "cell_type": "code",
   "execution_count": 6,
   "metadata": {
    "collapsed": false
   },
   "outputs": [],
   "source": [
    "# This function extracts each set of winning numbers as a set.\n",
    "\n",
    "def extract_numbers(row):\n",
    "    winning_numbers = set(row.iloc[4:10])\n",
    "    return winning_numbers"
   ]
  },
  {
   "cell_type": "code",
   "execution_count": 7,
   "metadata": {
    "collapsed": false
   },
   "outputs": [],
   "source": [
    "def check_historical_occurence(user_num, winning_num):\n",
    "    wins = 0\n",
    "    user_num = set(user_num)\n",
    "    for i in range(len(winning_num)):\n",
    "        if user_num == winning_num[i]:\n",
    "            wins += 1\n",
    "    if wins == 0:\n",
    "        print('This combination has not won in the last 35 years.')\n",
    "        print('If you use these numbers for the next drawing:')\n",
    "        print('\\tYour probability of having the correct numbers is 0.0000072%%.')\n",
    "        print('\\tYour chances of winning are 1 in 13,983,816.')\n",
    "    elif wins == 1:\n",
    "        print('This combination won one time in the last 35 years.')\n",
    "        print('If you use these numbers for the next drawing:')\n",
    "        print('\\tYour probability of having the correct numbers is 0.0000072%%.')\n",
    "        print('\\tYour chances of winning are 1 in 13,983,816.')\n",
    "# More than one win with a set of number almost certainly hasn't happened, but these few lines of code prevent\n",
    "# having to check and future-proof the function in case a given set of numbers does win more than once.\n",
    "    else:\n",
    "        print('This combination won {} times in the last 35 years.'.format(wins))\n",
    "        print('If you use these numbers for the next drawing:')\n",
    "        print('\\tYour probability of having the correct numbers is 0.0000072%%.')\n",
    "        print('\\tYour chances of winning are 1 in 13,983,816.')\n",
    "    return\n",
    "\n",
    "\n",
    "winning_numbers = lottery.apply(extract_numbers, axis=1)"
   ]
  },
  {
   "cell_type": "code",
   "execution_count": 8,
   "metadata": {
    "collapsed": false,
    "scrolled": true
   },
   "outputs": [
    {
     "name": "stdout",
     "output_type": "stream",
     "text": [
      "This combination has not won in the last 35 years.\n",
      "If you use these numbers for the next drawing:\n",
      "\tYour probability of having the correct numbers is 0.0000072%%.\n",
      "\tYour chances of winning are 1 in 13,983,816.\n"
     ]
    }
   ],
   "source": [
    "user_numbers = {1,2,3,4,5,6}\n",
    "check_historical_occurence(user_numbers, winning_numbers)"
   ]
  },
  {
   "cell_type": "code",
   "execution_count": 9,
   "metadata": {
    "collapsed": false
   },
   "outputs": [
    {
     "name": "stdout",
     "output_type": "stream",
     "text": [
      "This combination won one time in the last 35 years.\n",
      "If you use these numbers for the next drawing:\n",
      "\tYour probability of having the correct numbers is 0.0000072%%.\n",
      "\tYour chances of winning are 1 in 13,983,816.\n"
     ]
    }
   ],
   "source": [
    "user_numbers = (14,24,31,35,37,48)\n",
    "check_historical_occurence(user_numbers, winning_numbers)"
   ]
  },
  {
   "cell_type": "markdown",
   "metadata": {},
   "source": [
    "## Multi-Ticket Probability\n",
    "\n",
    "The next function, `multi_ticket_probability` prints the probability of winning with `n` number of tickets purchased. This is achieved by simply multiplying the probability of winning with one ticket by the total number of tickets purchased. This ignores the very small possibility of purchasing the same numbers on more than one ticket."
   ]
  },
  {
   "cell_type": "code",
   "execution_count": 10,
   "metadata": {
    "collapsed": false
   },
   "outputs": [
    {
     "name": "stdout",
     "output_type": "stream",
     "text": [
      "Buying 1 ticket:\n",
      "Your probability of having the correct numbers is 0.0000072%.\n",
      "Your chances of winning are 1 in 13,983,816.\n",
      "\n",
      "\n",
      "Buying 10 tickets:\n",
      "Your probability of having the correct numbers is 0.0000715%.\n",
      "Your chances of winning are 1 in 1,398,381.\n",
      "\n",
      "\n",
      "Buying 100 tickets:\n",
      "Your probability of having the correct numbers is 0.0007151%.\n",
      "Your chances of winning are 1 in 139,838.\n",
      "\n",
      "\n",
      "Buying 10,000 tickets:\n",
      "Your probability of having the correct numbers is 0.0715112%.\n",
      "Your chances of winning are 1 in 1,398.\n",
      "\n",
      "\n",
      "Buying 1,000,000 tickets:\n",
      "Your probability of having the correct numbers is 7.1511238%.\n",
      "Your chances of winning are 1 in 13.\n",
      "\n",
      "\n",
      "Buying 6,991,908 tickets:\n",
      "Your probability of having the correct numbers is 50.0000000%.\n",
      "Your chances of winning are 1 in 2.\n",
      "\n",
      "\n",
      "Buying 13,983,816 tickets:\n",
      "Your probability of having the correct numbers is 100.0000000%.\n",
      "Your chances of winning are 1 in 1.\n",
      "\n",
      "\n"
     ]
    }
   ],
   "source": [
    "def multi_ticket_probability(tickets):\n",
    "    combos = int(combinations(49,6))\n",
    "    probability = tickets / combos\n",
    "    chances = int(combos / tickets)\n",
    "    if tickets == 1:\n",
    "        print('Buying {:,}'.format(tickets) + ' ticket:')\n",
    "    else:\n",
    "        print('Buying {:,}'.format(tickets) + ' tickets:')\n",
    "    print('Your probability of having the correct numbers is {:.7f}'.format(100 * probability) + '%.')\n",
    "    print('Your chances of winning are 1 in {:,}.'.format(chances))\n",
    "    return\n",
    "\n",
    "test_list = [1, 10, 100, 10000, 1000000, 6991908, 13983816]\n",
    "\n",
    "for item in test_list:\n",
    "    multi_ticket_probability(item)\n",
    "    print('\\n')"
   ]
  },
  {
   "cell_type": "markdown",
   "metadata": {},
   "source": [
    "## Less Winning Numbers\n",
    "\n",
    "We have so far written functions dealing with the probabilities of winning the lottery jackpot. To finish, we will write one more function to calculate the probability of matching less than six numbers. Many lotteries pay smaller prizes if a ticket matches two, three, four, or five numbers. Our final function, `probability_less_6`, will take in an integer between two and five and calculate the probability of matching exactly that many numbers on a given ticket."
   ]
  },
  {
   "cell_type": "code",
   "execution_count": 11,
   "metadata": {
    "collapsed": false
   },
   "outputs": [],
   "source": [
    "def probability_less_6(num):\n",
    "    winning_combos = combinations(6, num)\n",
    "    losing_numbers = combinations(43,6-num)\n",
    "    total_combos = combinations(49,6)\n",
    "    probability = winning_combos * losing_numbers / total_combos\n",
    "    chances = round(1 / probability)\n",
    "    prob_pct = probability * 100\n",
    "    print('The chances of having exactly {} winning numbers is 1 in {:,}. This is a {:.3f}% chance.'\n",
    "          .format(num, chances, prob_pct))    "
   ]
  },
  {
   "cell_type": "code",
   "execution_count": 12,
   "metadata": {
    "collapsed": false
   },
   "outputs": [
    {
     "name": "stdout",
     "output_type": "stream",
     "text": [
      "The chances of having exactly 2 winning numbers is 1 in 8. This is a 13.238% chance.\n",
      "\n",
      "\n",
      "The chances of having exactly 3 winning numbers is 1 in 57. This is a 1.765% chance.\n",
      "\n",
      "\n",
      "The chances of having exactly 4 winning numbers is 1 in 1,032. This is a 0.097% chance.\n",
      "\n",
      "\n",
      "The chances of having exactly 5 winning numbers is 1 in 54,201. This is a 0.002% chance.\n",
      "\n",
      "\n"
     ]
    }
   ],
   "source": [
    "test_inputs = [2,3,4,5]\n",
    "\n",
    "for item in test_inputs:\n",
    "    probability_less_6(item)\n",
    "    print('\\n')"
   ]
  },
  {
   "cell_type": "markdown",
   "metadata": {
    "collapsed": true
   },
   "source": [
    "There are a number of other steps which could be taken such as calculating the odds of matching at least a certain amount of numbers, but for the purposes of this project, we are finished."
   ]
  },
  {
   "cell_type": "code",
   "execution_count": null,
   "metadata": {
    "collapsed": true
   },
   "outputs": [],
   "source": []
  }
 ],
 "metadata": {
  "kernelspec": {
   "display_name": "Python 3",
   "language": "python",
   "name": "python3"
  },
  "language_info": {
   "codemirror_mode": {
    "name": "ipython",
    "version": 3
   },
   "file_extension": ".py",
   "mimetype": "text/x-python",
   "name": "python",
   "nbconvert_exporter": "python",
   "pygments_lexer": "ipython3",
   "version": "3.4.3"
  }
 },
 "nbformat": 4,
 "nbformat_minor": 2
}
